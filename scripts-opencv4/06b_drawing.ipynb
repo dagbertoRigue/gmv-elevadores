{
 "cells": [
  {
   "cell_type": "code",
   "execution_count": 1,
   "metadata": {},
   "outputs": [],
   "source": [
    "import cv2\n",
    "import numpy as np\n",
    "\n",
    "BLACK = (0, 0, 0)\n",
    "\n",
    "def showImage(img):\n",
    "    from matplotlib import pyplot as plt\n",
    "    plt.imshow(img)\n",
    "    plt.show()"
   ]
  },
  {
   "cell_type": "code",
   "execution_count": 2,
   "metadata": {},
   "outputs": [],
   "source": [
    "def drawLine(image, startPoint, endPoint, color = BLACK, thickness = 5):\n",
    "    cv2.line(image,\n",
    "             startPoint,\n",
    "             endPoint,\n",
    "             color,\n",
    "             thickness)"
   ]
  },
  {
   "cell_type": "code",
   "execution_count": 3,
   "metadata": {},
   "outputs": [
    {
     "data": {
      "image/png": "[encoded data removed]",
      "text/plain": [
       "<Figure size 432x288 with 1 Axes>"
      ]
     },
     "metadata": {
      "needs_background": "light"
     },
     "output_type": "display_data"
    }
   ],
   "source": [
    "ticTacToeBoard = np.empty([400, 300, 3], dtype = np.uint8)\n",
    "ticTacToeBoard.fill(255)\n",
    "\n",
    "drawLine(ticTacToeBoard, (100, 100), (100, 300))\n",
    "drawLine(ticTacToeBoard, (200, 100), (200, 300))\n",
    "drawLine(ticTacToeBoard, (50, 150), (250, 150))\n",
    "drawLine(ticTacToeBoard, (50, 250), (250, 250))\n",
    "\n",
    "showImage(ticTacToeBoard)"
   ]
  },
  {
   "cell_type": "code",
   "execution_count": 4,
   "metadata": {},
   "outputs": [],
   "source": [
    "def drawRectangleInBoard(image, posXBoard, posYBoard, color):    \n",
    "    startPosX, startPosY = 50 + posXBoard * 80, 100 + posYBoard * 80\n",
    "    endPosX, endPosY = 90 + posXBoard * 80, 140 + posYBoard * 80\n",
    "    \n",
    "    cv2.rectangle(image,\n",
    "                  (startPosX, startPosY),\n",
    "                  (endPosX, endPosY),\n",
    "                  color,\n",
    "                  -1)"
   ]
  },
  {
   "cell_type": "code",
   "execution_count": 47,
   "metadata": {},
   "outputs": [],
   "source": [
    "def drawTriangleInBoard(image, posXBoard, posYBoard, color):\n",
    "    startPosX, startPosY = 50 + posXBoard * 80, 100 + posYBoard * 80\n",
    "    endPosX, endPosY = 90 + posXBoard * 80, 140 + posYBoard * 80\n",
    "    \n",
    "    vertices = np.array([[(startPosX, startPosY), (endPosX, startPosY), ((startPosX + endPosX) / 2, endPosY)]], np.int32)\n",
    "    cv2.fillPoly(image,\n",
    "                 vertices,\n",
    "                 color)"
   ]
  },
  {
   "cell_type": "code",
   "execution_count": 53,
   "metadata": {},
   "outputs": [],
   "source": [
    "EMPATE = -1\n",
    "VAZIO = 0\n",
    "HUMANO = 1\n",
    "CPU = 2\n",
    "\n",
    "def checkGameOver(board):\n",
    "\n",
    "    #vitórias por linha\n",
    "    if board[0][0] == board[1][0] == board[2][0] and board[0][0] != VAZIO:\n",
    "        return board[0][0]\n",
    "    if board[0][1] == board[1][1] == board[2][1] and board[0][1] != VAZIO:\n",
    "        return board[0][1]\n",
    "    if board[0][2] == board[1][2] == board[2][2] and board[0][2] != VAZIO:\n",
    "        return board[0][2]\n",
    "    \n",
    "    #vitórias por coluna\n",
    "    if board[0][0] == board[0][1] == board[0][2] and board[0][0] != VAZIO:\n",
    "        return board[0][0]\n",
    "    if board[1][0] == board[1][1] == board[1][2] and board[1][0] != VAZIO:\n",
    "        return board[1][0]\n",
    "    if board[2][0] == board[2][1] == board[2][2] and board[2][0] != VAZIO:\n",
    "        return board[2][0]\n",
    "    \n",
    "    #vitórias por diagonal\n",
    "    if board[0][0] == board[1][1] == board[2][2] and board[0][0] != VAZIO:\n",
    "        return board[0][0]\n",
    "    if board[2][0] == board[1][1] == board[0][2] and board[2][0] != VAZIO:\n",
    "        return board[2][0]\n",
    "    \n",
    "    #empate\n",
    "    if VAZIO not in board[0] and VAZIO not in board[1] and VAZIO not in board[2]:\n",
    "        return EMPATE"
   ]
  },
  {
   "cell_type": "code",
   "execution_count": 56,
   "metadata": {},
   "outputs": [
    {
     "data": {
      "image/png": "[encoded data removed]",
      "text/plain": [
       "<Figure size 432x288 with 1 Axes>"
      ]
     },
     "metadata": {
      "needs_background": "light"
     },
     "output_type": "display_data"
    },
    {
     "name": "stdout",
     "output_type": "stream",
     "text": [
      "TURNO DO JOGADOR HUMANO.\n",
      "Informe a posição x da sua jogada:2\n",
      "Informe a posição y da sua jogada:2\n"
     ]
    },
    {
     "data": {
      "image/png": "[encoded data removed]",
      "text/plain": [
       "<Figure size 432x288 with 1 Axes>"
      ]
     },
     "metadata": {
      "needs_background": "light"
     },
     "output_type": "display_data"
    },
    {
     "name": "stdout",
     "output_type": "stream",
     "text": [
      "TURNO DO JOGADOR CPU.\n"
     ]
    },
    {
     "data": {
      "image/png": "[encoded data removed]",
      "text/plain": [
       "<Figure size 432x288 with 1 Axes>"
      ]
     },
     "metadata": {
      "needs_background": "light"
     },
     "output_type": "display_data"
    },
    {
     "name": "stdout",
     "output_type": "stream",
     "text": [
      "TURNO DO JOGADOR HUMANO.\n",
      "Informe a posição x da sua jogada:0\n",
      "Informe a posição y da sua jogada:2\n"
     ]
    },
    {
     "data": {
      "image/png": "[encoded data removed]",
      "text/plain": [
       "<Figure size 432x288 with 1 Axes>"
      ]
     },
     "metadata": {
      "needs_background": "light"
     },
     "output_type": "display_data"
    },
    {
     "name": "stdout",
     "output_type": "stream",
     "text": [
      "TURNO DO JOGADOR CPU.\n"
     ]
    },
    {
     "data": {
      "image/png": "[encoded data removed]",
      "text/plain": [
       "<Figure size 432x288 with 1 Axes>"
      ]
     },
     "metadata": {
      "needs_background": "light"
     },
     "output_type": "display_data"
    },
    {
     "name": "stdout",
     "output_type": "stream",
     "text": [
      "TURNO DO JOGADOR HUMANO.\n",
      "Informe a posição x da sua jogada:0\n",
      "Informe a posição y da sua jogada:0\n"
     ]
    },
    {
     "data": {
      "image/png": "[encoded data removed]",
      "text/plain": [
       "<Figure size 432x288 with 1 Axes>"
      ]
     },
     "metadata": {
      "needs_background": "light"
     },
     "output_type": "display_data"
    },
    {
     "name": "stdout",
     "output_type": "stream",
     "text": [
      "TURNO DO JOGADOR CPU.\n"
     ]
    },
    {
     "data": {
      "image/png": "[encoded data removed]",
      "text/plain": [
       "<Figure size 432x288 with 1 Axes>"
      ]
     },
     "metadata": {
      "needs_background": "light"
     },
     "output_type": "display_data"
    },
    {
     "name": "stdout",
     "output_type": "stream",
     "text": [
      "TURNO DO JOGADOR HUMANO.\n",
      "Informe a posição x da sua jogada:1\n",
      "Informe a posição y da sua jogada:0\n"
     ]
    },
    {
     "data": {
      "image/png": "[encoded data removed]",
      "text/plain": [
       "<Figure size 432x288 with 1 Axes>"
      ]
     },
     "metadata": {
      "needs_background": "light"
     },
     "output_type": "display_data"
    },
    {
     "name": "stdout",
     "output_type": "stream",
     "text": [
      "TURNO DO JOGADOR CPU.\n"
     ]
    },
    {
     "data": {
      "image/png": "[encoded data removed]",
      "text/plain": [
       "<Figure size 432x288 with 1 Axes>"
      ]
     },
     "metadata": {
      "needs_background": "light"
     },
     "output_type": "display_data"
    },
    {
     "name": "stdout",
     "output_type": "stream",
     "text": [
      "VOCÊ PERDEU!\n"
     ]
    }
   ],
   "source": [
    "currentMatch = ticTacToeBoard.copy()\n",
    "showImage(currentMatch)\n",
    "\n",
    "occupiedPositions = [[VAZIO, VAZIO, VAZIO],\n",
    "                     [VAZIO, VAZIO, VAZIO],\n",
    "                     [VAZIO, VAZIO, VAZIO]]\n",
    "turno = HUMANO\n",
    "jogadas = 0\n",
    "while 1:\n",
    "    if turno == HUMANO:\n",
    "        print(\"TURNO DO JOGADOR HUMANO.\")\n",
    "        posX = int(input(\"Informe a posição x da sua jogada:\")) % 3\n",
    "        posY = int(input(\"Informe a posição y da sua jogada:\")) % 3\n",
    "        \n",
    "        while occupiedPositions[posX][posY] != VAZIO:\n",
    "            print(\"Posição ocupada.\")\n",
    "            posX = int(input(\"Informe a posição x da sua jogada:\")) % 3\n",
    "            posY = int(input(\"Informe a posição y da sua jogada:\")) % 3\n",
    "            \n",
    "        occupiedPositions[posX][posY] = HUMANO\n",
    "        drawTriangleInBoard(currentMatch, posX, posY, (0, 0, 255))\n",
    "        turno = CPU\n",
    "        \n",
    "    elif turno == CPU:\n",
    "        print(\"TURNO DO JOGADOR CPU.\")\n",
    "        \n",
    "        import random\n",
    "        posX, posY = random.randint(0, 2), random.randint(0, 2)\n",
    "        while occupiedPositions[posX][posY] != VAZIO:\n",
    "            posX, posY = random.randint(0, 2), random.randint(0, 2)\n",
    "\n",
    "        occupiedPositions[posX][posY] = CPU\n",
    "        drawRectangleInBoard(currentMatch, posX, posY, (255, 0, 0))\n",
    "        turno = HUMANO\n",
    "        \n",
    "    showImage(currentMatch)\n",
    "    jogadas += 1\n",
    "    \n",
    "    if checkGameOver(occupiedPositions) == EMPATE:\n",
    "        print(\"EMPATE!\")\n",
    "        break\n",
    "    elif checkGameOver(occupiedPositions) == HUMANO:\n",
    "        print(\"VOCÊ VENCEU!\")\n",
    "        break\n",
    "    elif checkGameOver(occupiedPositions) == CPU:\n",
    "        print(\"VOCÊ PERDEU!\")\n",
    "        break\n",
    "    \n",
    "    #if jogadas == 2:\n",
    "    #    break\n",
    "\n",
    "#drawRectangleInBoard(currentMatch, 2, 2, (255, 0, 0))\n",
    "#drawTriangleInBoard(currentMatch, 2, 1, (0, 0, 255))\n",
    "\n",
    "#showImage(currentMatch)"
   ]
  },
  {
   "cell_type": "code",
   "execution_count": null,
   "metadata": {},
   "outputs": [],
   "source": []
  }
 ],
 "metadata": {
  "kernelspec": {
   "display_name": "Python 3",
   "language": "python",
   "name": "python3"
  },
  "language_info": {
   "codemirror_mode": {
    "name": "ipython",
    "version": 3
   },
   "file_extension": ".py",
   "mimetype": "text/x-python",
   "name": "python",
   "nbconvert_exporter": "python",
   "pygments_lexer": "ipython3",
   "version": "3.7.5"
  }
 },
 "nbformat": 4,
 "nbformat_minor": 4
}
